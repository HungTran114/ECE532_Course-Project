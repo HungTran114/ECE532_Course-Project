{
 "cells": [
  {
   "cell_type": "code",
   "execution_count": 1,
   "metadata": {},
   "outputs": [
    {
     "name": "stdout",
     "output_type": "stream",
     "text": [
      "['test.csv', 'train.csv']\n"
     ]
    }
   ],
   "source": [
    "import numpy as np\n",
    "import pylab as pl\n",
    "import pandas as pd\n",
    "import matplotlib.pyplot as plt \n",
    "%matplotlib inline\n",
    "import seaborn as sns\n",
    "from sklearn.utils import shuffle\n",
    "from sklearn.svm import SVC\n",
    "from sklearn.metrics import confusion_matrix,classification_report\n",
    "from sklearn.model_selection import cross_val_score, GridSearchCV\n",
    "\n",
    "import os\n",
    "print(os.listdir(r\"D:\\Dropbox\\Wisconsin School of Business\\MSBA\\CS 532\\Jupyter NB\\Final Project\\input\"))"
   ]
  },
  {
   "cell_type": "code",
   "execution_count": 2,
   "metadata": {},
   "outputs": [
    {
     "name": "stdout",
     "output_type": "stream",
     "text": [
      "(7352, 563)\n",
      "(2947, 563)\n"
     ]
    }
   ],
   "source": [
    "train = (pd.read_csv(r\"D:\\Dropbox\\Wisconsin School of Business\\MSBA\\CS 532\\Jupyter NB\\Final Project\\input\\train.csv\"))\n",
    "print(train.shape)\n",
    "test = (pd.read_csv(r\"D:\\Dropbox\\Wisconsin School of Business\\MSBA\\CS 532\\Jupyter NB\\Final Project\\input\\test.csv\"))\n",
    "print(test.shape)"
   ]
  },
  {
   "cell_type": "code",
   "execution_count": 3,
   "metadata": {},
   "outputs": [
    {
     "data": {
      "text/html": [
       "<div>\n",
       "<style scoped>\n",
       "    .dataframe tbody tr th:only-of-type {\n",
       "        vertical-align: middle;\n",
       "    }\n",
       "\n",
       "    .dataframe tbody tr th {\n",
       "        vertical-align: top;\n",
       "    }\n",
       "\n",
       "    .dataframe thead th {\n",
       "        text-align: right;\n",
       "    }\n",
       "</style>\n",
       "<table border=\"1\" class=\"dataframe\">\n",
       "  <thead>\n",
       "    <tr style=\"text-align: right;\">\n",
       "      <th>col_0</th>\n",
       "      <th>count</th>\n",
       "    </tr>\n",
       "    <tr>\n",
       "      <th>Activity</th>\n",
       "      <th></th>\n",
       "    </tr>\n",
       "  </thead>\n",
       "  <tbody>\n",
       "    <tr>\n",
       "      <th>LAYING</th>\n",
       "      <td>1407</td>\n",
       "    </tr>\n",
       "    <tr>\n",
       "      <th>SITTING</th>\n",
       "      <td>1286</td>\n",
       "    </tr>\n",
       "    <tr>\n",
       "      <th>STANDING</th>\n",
       "      <td>1374</td>\n",
       "    </tr>\n",
       "    <tr>\n",
       "      <th>WALKING</th>\n",
       "      <td>1226</td>\n",
       "    </tr>\n",
       "    <tr>\n",
       "      <th>WALKING_DOWNSTAIRS</th>\n",
       "      <td>986</td>\n",
       "    </tr>\n",
       "    <tr>\n",
       "      <th>WALKING_UPSTAIRS</th>\n",
       "      <td>1073</td>\n",
       "    </tr>\n",
       "  </tbody>\n",
       "</table>\n",
       "</div>"
      ],
      "text/plain": [
       "col_0               count\n",
       "Activity                 \n",
       "LAYING               1407\n",
       "SITTING              1286\n",
       "STANDING             1374\n",
       "WALKING              1226\n",
       "WALKING_DOWNSTAIRS    986\n",
       "WALKING_UPSTAIRS     1073"
      ]
     },
     "execution_count": 3,
     "metadata": {},
     "output_type": "execute_result"
    }
   ],
   "source": [
    "train_outcome = pd.crosstab(index=train[\"Activity\"],  # Make a crosstab\n",
    "                              columns=\"count\")      # Name the count column\n",
    "\n",
    "train_outcome"
   ]
  },
  {
   "cell_type": "code",
   "execution_count": 4,
   "metadata": {},
   "outputs": [
    {
     "data": {
      "image/png": "[encoded data removed]",
      "text/plain": [
       "<Figure size 1440x432 with 2 Axes>"
      ]
     },
     "metadata": {
      "needs_background": "light"
     },
     "output_type": "display_data"
    }
   ],
   "source": [
    "fig, ax = plt.subplots(ncols=2, figsize = (20,6))\n",
    "\n",
    "sns.countplot(train['Activity'], ax=ax[0])\n",
    "sns.countplot(test['subject'], ax=ax[1])\n",
    "ax[0].tick_params(axis='x', rotation=45)\n",
    "ax[0].set_ylabel('Number of observations')\n",
    "ax[0].set_title('Observations by activity')\n",
    "ax[1].set_ylabel('Number of observations')\n",
    "ax[1].set_title('Observations by subject')\n",
    "\n",
    "plt.show()"
   ]
  },
  {
   "cell_type": "code",
   "execution_count": 5,
   "metadata": {},
   "outputs": [],
   "source": [
    "#Create the binary class variables for train set:\n",
    "laying = []\n",
    "for i in range(len(train)):\n",
    "    if train['Activity'][i] == \"LAYING\":\n",
    "        laying.append(1)\n",
    "    else:\n",
    "        laying.append(-1)\n",
    "#train['LAYING'] = laying\n",
    "train_laying = np.c_[laying]\n",
    "\n",
    "sitting = []\n",
    "for i in range(len(train)):\n",
    "    if train['Activity'][i] == \"SITTING\":\n",
    "        sitting.append(1)\n",
    "    else:\n",
    "        sitting.append(-1)\n",
    "#train['SITTING'] = sitting\n",
    "train_sitting = np.c_[sitting]\n",
    "\n",
    "standing = []\n",
    "for i in range(len(train)):\n",
    "    if train['Activity'][i] == \"STANDING\":\n",
    "        standing.append(1)\n",
    "    else:\n",
    "        standing.append(-1)\n",
    "#train['STANDING'] = standing\n",
    "train_standing = np.c_[standing]\n",
    "\n",
    "walking = []\n",
    "for i in range(len(train)):\n",
    "    if train['Activity'][i] == \"WALKING\":\n",
    "        walking.append(1)\n",
    "    else:\n",
    "        walking.append(-1)\n",
    "#train['WALKING'] = walking\n",
    "train_walking = np.c_[walking]\n",
    "\n",
    "walkingdownstairs = []\n",
    "for i in range(len(train)):\n",
    "    if train['Activity'][i] == \"WALKING_DOWNSTAIRS\":\n",
    "        walkingdownstairs.append(1)\n",
    "    else:\n",
    "        walkingdownstairs.append(-1)\n",
    "#train['WALKING_DOWNSTAIRS'] = walkingdownstairs\n",
    "train_walkingdownstairs = np.c_[walkingdownstairs]\n",
    "\n",
    "walkingupstairs = []\n",
    "for i in range(len(train)):\n",
    "    if train['Activity'][i] == \"WALKING_UPSTAIRS\":\n",
    "        walkingupstairs.append(1)\n",
    "    else:\n",
    "        walkingupstairs.append(-1)\n",
    "#train['WALKING_UPSTAIRS'] = walkingupstairs\n",
    "train_walkingupstairs = np.c_[walkingupstairs]\n",
    "\n",
    "#Create the binary class variables for test set:\n",
    "test_laying = []\n",
    "for i in range(len(test)):\n",
    "    if test['Activity'][i] == \"LAYING\":\n",
    "        test_laying.append(1)\n",
    "    else:\n",
    "        test_laying.append(-1)\n",
    "#test['LAYING'] = laying\n",
    "test_laying = np.c_[test_laying]\n",
    "\n",
    "test_sitting = []\n",
    "for i in range(len(test)):\n",
    "    if test['Activity'][i] == \"SITTING\":\n",
    "        test_sitting.append(1)\n",
    "    else:\n",
    "        test_sitting.append(-1)\n",
    "#test['SITTING'] = sitting\n",
    "test_sitting = np.c_[test_sitting]\n",
    "\n",
    "test_standing = []\n",
    "for i in range(len(test)):\n",
    "    if test['Activity'][i] == \"STANDING\":\n",
    "        test_standing.append(1)\n",
    "    else:\n",
    "        test_standing.append(-1)\n",
    "#test['STANDING'] = standing\n",
    "test_standing = np.c_[test_standing]\n",
    "\n",
    "test_walking = []\n",
    "for i in range(len(test)):\n",
    "    if test['Activity'][i] == \"WALKING\":\n",
    "        test_walking.append(1)\n",
    "    else:\n",
    "        test_walking.append(-1)\n",
    "#test['WALKING'] = walking\n",
    "test_walking = np.c_[test_walking]\n",
    "\n",
    "test_walkingdownstairs = []\n",
    "for i in range(len(test)):\n",
    "    if test['Activity'][i] == \"WALKING_DOWNSTAIRS\":\n",
    "        test_walkingdownstairs.append(1)\n",
    "    else:\n",
    "        test_walkingdownstairs.append(-1)\n",
    "#test['WALKING_DOWNSTAIRS'] = walkingdownstairs\n",
    "test_walkingdownstairs = np.c_[test_walkingdownstairs]\n",
    "\n",
    "test_walkingupstairs = []\n",
    "for i in range(len(test)):\n",
    "    if test['Activity'][i] == \"WALKING_UPSTAIRS\":\n",
    "        test_walkingupstairs.append(1)\n",
    "    else:\n",
    "        test_walkingupstairs.append(-1)\n",
    "#test['WALKING_UPSTAIRS'] = walkingupstairs\n",
    "test_walkingupstairs = np.c_[test_walkingupstairs]\n"
   ]
  },
  {
   "cell_type": "code",
   "execution_count": 6,
   "metadata": {
    "scrolled": false
   },
   "outputs": [
    {
     "data": {
      "text/plain": [
       "array([[-1, -1,  1, -1, -1, -1],\n",
       "       [-1, -1,  1, -1, -1, -1],\n",
       "       [-1, -1,  1, -1, -1, -1],\n",
       "       ...,\n",
       "       [-1, -1, -1, -1, -1,  1],\n",
       "       [-1, -1, -1, -1, -1,  1],\n",
       "       [-1, -1, -1, -1, -1,  1]])"
      ]
     },
     "execution_count": 6,
     "metadata": {},
     "output_type": "execute_result"
    }
   ],
   "source": [
    "train_y = np.hstack((train_laying, train_sitting, train_standing, train_walking,train_walkingdownstairs,  train_walkingupstairs))\n",
    "train_y"
   ]
  },
  {
   "cell_type": "code",
   "execution_count": 7,
   "metadata": {},
   "outputs": [
    {
     "data": {
      "text/plain": [
       "array([[-1, -1,  1, -1, -1, -1],\n",
       "       [-1, -1,  1, -1, -1, -1],\n",
       "       [-1, -1,  1, -1, -1, -1],\n",
       "       ...,\n",
       "       [-1, -1, -1, -1, -1,  1],\n",
       "       [-1, -1, -1, -1, -1,  1],\n",
       "       [-1, -1, -1, -1, -1,  1]])"
      ]
     },
     "execution_count": 7,
     "metadata": {},
     "output_type": "execute_result"
    }
   ],
   "source": [
    "test_y = np.hstack((test_laying, test_sitting, test_standing, test_walking,test_walkingdownstairs,  test_walkingupstairs))\n",
    "test_y"
   ]
  },
  {
   "cell_type": "code",
   "execution_count": 8,
   "metadata": {},
   "outputs": [
    {
     "name": "stdout",
     "output_type": "stream",
     "text": [
      "Dimension of Train set (7352, 561)\n",
      "Dimension of Test set (2947, 561) \n",
      "\n"
     ]
    }
   ],
   "source": [
    "# Seperating Predictors and Outcome values from train and test sets\n",
    "X_train = pd.DataFrame(train.drop(['Activity','subject'],axis=1))\n",
    "#Y_train_label = train.Activity.values.astype(object)\n",
    "X_test = pd.DataFrame(test.drop(['Activity','subject'],axis=1))\n",
    "#Y_test_label = test.Activity.values.astype(object)\n",
    "\n",
    "# Dimension of Train and Test set \n",
    "print(\"Dimension of Train set\",X_train.shape)\n",
    "print(\"Dimension of Test set\",X_test.shape,\"\\n\")\n"
   ]
  },
  {
   "cell_type": "markdown",
   "metadata": {},
   "source": [
    "## Least Square "
   ]
  },
  {
   "cell_type": "code",
   "execution_count": 26,
   "metadata": {
    "scrolled": false
   },
   "outputs": [],
   "source": [
    "w_laying = np.linalg.inv(X_train.T@X_train)@X_train.T@train_laying\n",
    "w_sitting = np.linalg.inv(X_train.T@X_train)@X_train.T@train_sitting\n",
    "w_standing = np.linalg.inv(X_train.T@X_train)@X_train.T@train_standing\n",
    "w_walking = np.linalg.inv(X_train.T@X_train)@X_train.T@train_walking\n",
    "w_walkingdownstairs = np.linalg.inv(X_train.T@X_train)@X_train.T@train_walkingdownstairs\n",
    "w_walkingupstairs = np.linalg.inv(X_train.T@X_train)@X_train.T@train_walkingupstairs"
   ]
  },
  {
   "cell_type": "code",
   "execution_count": 27,
   "metadata": {},
   "outputs": [],
   "source": [
    "w_laying = np.matrix(w_laying)\n",
    "w_sitting = np.matrix(w_sitting)\n",
    "w_standing = np.matrix(w_standing)\n",
    "w_walking = np.matrix(w_walking)\n",
    "w_walkingdownstairs = np.matrix(w_walkingdownstairs)\n",
    "w_walkingupstairs = np.matrix(w_walkingupstairs)"
   ]
  },
  {
   "cell_type": "code",
   "execution_count": 28,
   "metadata": {},
   "outputs": [
    {
     "name": "stdout",
     "output_type": "stream",
     "text": [
      "0.6179165252799457\n",
      "0.6868001357312521\n",
      "0.6949440108585002\n",
      "0.2680692229385816\n",
      "0.5256192738378012\n",
      "0.2646759416355616\n"
     ]
    }
   ],
   "source": [
    "test_laying_pred = np.sign(X_test@w_laying)\n",
    "test_sitting_pred = np.sign(X_test@w_sitting)\n",
    "test_standing_pred = np.sign(X_test@w_standing)\n",
    "test_walking_pred = np.sign(X_test@w_walking)\n",
    "test_walkingdownstairs_pred = np.sign(X_test@w_walkingdownstairs)\n",
    "test_walkingupstairs_pred = np.sign(X_test@w_walkingupstairs)\n",
    "\n",
    "error_vec_laying = [0 if j[0]==j[1] else 1 for j in np.hstack((test_laying_pred, test_laying))]\n",
    "print(sum(error_vec_laying)/len(test))\n",
    "\n",
    "error_vec_sitting = [0 if j[0]==j[1] else 1 for j in np.hstack((test_sitting_pred, test_sitting))]\n",
    "print(sum(error_vec_sitting)/len(test))\n",
    "\n",
    "error_vec_standing = [0 if j[0]==j[1] else 1 for j in np.hstack((test_standing_pred, test_standing))]\n",
    "print(sum(error_vec_standing)/len(test))\n",
    "\n",
    "error_vec_walking = [0 if j[0]==j[1] else 1 for j in np.hstack((test_walking_pred, test_walking))]\n",
    "print(sum(error_vec_walking)/len(test))\n",
    "\n",
    "error_vec_walkingdownstairs = [0 if j[0]==j[1] else 1 for j in np.hstack((test_walkingdownstairs_pred, test_walkingdownstairs))]\n",
    "print(sum(error_vec_walkingdownstairs)/len(test))\n",
    "\n",
    "error_vec_walkingupstairs = [0 if j[0]==j[1] else 1 for j in np.hstack((test_walkingupstairs_pred, test_walkingupstairs))]\n",
    "print(sum(error_vec_walkingupstairs)/len(test))"
   ]
  },
  {
   "cell_type": "code",
   "execution_count": 41,
   "metadata": {},
   "outputs": [
    {
     "data": {
      "text/plain": [
       "array([[ 1.16331756e+52,  2.72245933e+52,  5.40820994e+52,\n",
       "        -7.48116373e+52, -2.82046907e+51, -2.77484016e+52],\n",
       "       [ 1.58473236e+52,  1.60739226e+52,  5.49689840e+52,\n",
       "        -5.34832342e+52, -2.97120785e+52, -5.97170014e+52],\n",
       "       [ 1.45420885e+52,  3.85924421e+52,  6.87502313e+52,\n",
       "        -3.08136456e+51,  7.39131072e+52, -1.98890339e+52],\n",
       "       ...,\n",
       "       [-3.29028391e+52, -3.50350676e+52, -2.15706783e+52,\n",
       "        -1.05305011e+53, -1.14657281e+53, -1.24031915e+53],\n",
       "       [-2.37620604e+52, -2.24031185e+52, -1.50321054e+52,\n",
       "        -8.86874437e+52, -7.15987613e+52, -8.72776163e+52],\n",
       "       [-1.04624029e+51,  7.44960965e+50,  9.98655488e+51,\n",
       "        -2.09442966e+52, -1.43720806e+52, -2.69971869e+52]])"
      ]
     },
     "execution_count": 41,
     "metadata": {},
     "output_type": "execute_result"
    }
   ],
   "source": [
    "test_laying_pred = X_test@w_laying\n",
    "test_sitting_pred = X_test@w_sitting\n",
    "test_standing_pred = X_test@w_standing\n",
    "test_walking_pred = X_test@w_walking\n",
    "test_walkingdownstairs_pred = X_test@w_walkingdownstairs\n",
    "test_walkingupstairs_pred = X_test@w_walkingupstairs\n",
    "\n",
    "pred = np.hstack((test_laying_pred, test_sitting_pred, test_standing_pred, test_walking_pred, test_walkingdownstairs_pred, test_walkingupstairs_pred))\n",
    "\n",
    "pred"
   ]
  },
  {
   "cell_type": "code",
   "execution_count": 42,
   "metadata": {},
   "outputs": [
    {
     "data": {
      "text/plain": [
       "array([[-1.00000000e+00, -1.00000000e+00,  5.40820994e+52,\n",
       "        -1.00000000e+00, -1.00000000e+00, -1.00000000e+00],\n",
       "       [-1.00000000e+00, -1.00000000e+00,  5.49689840e+52,\n",
       "        -1.00000000e+00, -1.00000000e+00, -1.00000000e+00],\n",
       "       [-1.00000000e+00, -1.00000000e+00, -1.00000000e+00,\n",
       "        -1.00000000e+00,  7.39131072e+52, -1.00000000e+00],\n",
       "       ...,\n",
       "       [-1.00000000e+00, -1.00000000e+00,  2.15706783e+52,\n",
       "        -1.00000000e+00, -1.00000000e+00, -1.00000000e+00],\n",
       "       [-1.00000000e+00, -1.00000000e+00,  1.50321054e+52,\n",
       "        -1.00000000e+00, -1.00000000e+00, -1.00000000e+00],\n",
       "       [-1.00000000e+00, -1.00000000e+00,  9.98655488e+51,\n",
       "        -1.00000000e+00, -1.00000000e+00, -1.00000000e+00]])"
      ]
     },
     "execution_count": 42,
     "metadata": {},
     "output_type": "execute_result"
    }
   ],
   "source": [
    "for i in range(len(pred)):\n",
    "    #ab = np.abs(pred[i])\n",
    "    index = np.argmax(pred[i])\n",
    "    if pred[i][index] < 0: \n",
    "        pred[i][index] = np.abs(pred[i][index])\n",
    "    for j in range(6):\n",
    "        if j != index:\n",
    "            pred[i][j] = -1\n",
    "            \n",
    "pred"
   ]
  },
  {
   "cell_type": "code",
   "execution_count": 43,
   "metadata": {},
   "outputs": [
    {
     "data": {
      "text/plain": [
       "array([[-1., -1.,  1., -1., -1., -1.],\n",
       "       [-1., -1.,  1., -1., -1., -1.],\n",
       "       [-1., -1., -1., -1.,  1., -1.],\n",
       "       ...,\n",
       "       [-1., -1.,  1., -1., -1., -1.],\n",
       "       [-1., -1.,  1., -1., -1., -1.],\n",
       "       [-1., -1.,  1., -1., -1., -1.]])"
      ]
     },
     "execution_count": 43,
     "metadata": {},
     "output_type": "execute_result"
    }
   ],
   "source": [
    "pred = np.sign(pred)\n",
    "pred"
   ]
  },
  {
   "cell_type": "code",
   "execution_count": 55,
   "metadata": {},
   "outputs": [],
   "source": [
    "test_laying_pred = pred[:,0]\n",
    "test_sitting_pred = pred[:,1]\n",
    "test_standing_pred = pred[:,2]\n",
    "test_walking_pred = pred[:,3]\n",
    "test_walkingdownstairs_pred = pred[:,4]\n",
    "test_walkingupstairs_pred = pred[:,5]"
   ]
  },
  {
   "cell_type": "code",
   "execution_count": 56,
   "metadata": {},
   "outputs": [],
   "source": [
    "pred_label = [\"UNKNOWN\" for i in range(len(X_test))]\n",
    "\n",
    "for i in range(len(pred_label)):\n",
    "    if test_laying_pred[i] == 1:\n",
    "        pred_label[i] = \"LAYING\"\n",
    "    if test_sitting_pred[i] == 1:\n",
    "        pred_label[i] = \"SITTING\"\n",
    "    if test_standing_pred[i] == 1:\n",
    "        pred_label[i] = \"STANDING\"\n",
    "    if test_walking_pred[i] == 1:\n",
    "        pred_label[i] = \"WALKING\"\n",
    "    if test_walkingupstairs_pred[i] == 1:\n",
    "        pred_label[i] = \"WALKINGUPSTAIRS\"\n",
    "    if test_walkingdownstairs_pred[i] == 1:\n",
    "        pred_label[i] = \"WALKINGDOWNSTAIRS\""
   ]
  },
  {
   "cell_type": "code",
   "execution_count": 58,
   "metadata": {},
   "outputs": [
    {
     "name": "stdout",
     "output_type": "stream",
     "text": [
      "2448\n",
      "0.8306752629793009\n"
     ]
    }
   ],
   "source": [
    "test_label = test['Activity'].values\n",
    "\n",
    "error = 0\n",
    "for i in range(len(pred_label)):\n",
    "    if pred_label[i] != test_label[i]:\n",
    "        error = error + 1\n",
    "\n",
    "print(error)\n",
    "print(error/len(test_label))"
   ]
  },
  {
   "cell_type": "markdown",
   "metadata": {},
   "source": [
    "## Regularizer with ridge regression"
   ]
  },
  {
   "cell_type": "code",
   "execution_count": 60,
   "metadata": {
    "scrolled": false
   },
   "outputs": [
    {
     "name": "stdout",
     "output_type": "stream",
     "text": [
      "1e-10\n",
      "(561, 561)\n",
      "0.0\n",
      "0.03189684424838819\n",
      "0.6949440108585002\n",
      "0.005429250084832033\n",
      "0.009501187648456057\n",
      "0.0166270783847981\n",
      "1e-09\n",
      "(561, 561)\n",
      "0.0\n",
      "0.03189684424838819\n",
      "0.6949440108585002\n",
      "0.005429250084832033\n",
      "0.009501187648456057\n",
      "0.0166270783847981\n",
      "1e-08\n",
      "(561, 561)\n",
      "0.0\n",
      "0.03189684424838819\n",
      "0.6949440108585002\n",
      "0.005429250084832033\n",
      "0.009501187648456057\n",
      "0.0166270783847981\n",
      "1e-07\n",
      "(561, 561)\n",
      "0.0\n",
      "0.03189684424838819\n",
      "0.6949440108585002\n",
      "0.00508992195453003\n",
      "0.009501187648456057\n",
      "0.0166270783847981\n",
      "1e-06\n",
      "(561, 561)\n",
      "0.0\n",
      "0.03189684424838819\n",
      "0.6949440108585002\n",
      "0.004750593824228029\n",
      "0.009501187648456057\n",
      "0.0166270783847981\n",
      "1e-05\n",
      "(561, 561)\n",
      "0.0\n",
      "0.03189684424838819\n",
      "0.6949440108585002\n",
      "0.004750593824228029\n",
      "0.009501187648456057\n",
      "0.0166270783847981\n",
      "0.0001\n",
      "(561, 561)\n",
      "0.0\n",
      "0.03189684424838819\n",
      "0.6949440108585002\n",
      "0.004750593824228029\n",
      "0.009501187648456057\n",
      "0.0166270783847981\n",
      "0.001\n",
      "(561, 561)\n",
      "0.0\n",
      "0.03189684424838819\n",
      "0.6949440108585002\n",
      "0.00508992195453003\n",
      "0.009501187648456057\n",
      "0.017305734645402103\n",
      "0.01\n",
      "(561, 561)\n",
      "0.0\n",
      "0.031218187987784186\n",
      "0.6949440108585002\n",
      "0.005429250084832033\n",
      "0.008822531387852052\n",
      "0.017984390906006106\n",
      "0.1\n",
      "(561, 561)\n",
      "0.0\n",
      "0.03155751611808619\n",
      "0.6949440108585002\n",
      "0.007125890736342043\n",
      "0.008822531387852052\n",
      "0.017645062775704105\n",
      "1\n",
      "(561, 561)\n",
      "0.0\n",
      "0.028842891075670174\n",
      "0.6949440108585002\n",
      "0.007465218866644045\n",
      "0.007804546996946046\n",
      "0.010858500169664066\n",
      "10\n",
      "(561, 561)\n",
      "0.0\n",
      "0.02680692229385816\n",
      "0.6949440108585002\n",
      "0.007804546996946046\n",
      "0.008822531387852052\n",
      "0.012215812690872073\n",
      "100\n",
      "(561, 561)\n",
      "0.0\n",
      "0.031218187987784186\n",
      "0.6949440108585002\n",
      "0.005768578215134035\n",
      "0.016287750254496098\n",
      "0.024092297251442144\n",
      "1000\n",
      "(561, 561)\n",
      "0.0\n",
      "0.05972175093315236\n",
      "0.6949440108585002\n",
      "0.010858500169664066\n",
      "0.0339328130302002\n",
      "0.06345436036647438\n",
      "10000\n",
      "(561, 561)\n",
      "0.0013573125212080082\n",
      "0.16355615880556498\n",
      "0.6949440108585002\n",
      "0.11333559552086868\n",
      "0.08822531387852053\n",
      "0.15744825246012895\n",
      "100000\n",
      "(561, 561)\n",
      "0.18221920597217509\n",
      "0.166610111978283\n",
      "0.6949440108585002\n",
      "0.16864608076009502\n",
      "0.14217848659653887\n",
      "0.15982354937224297\n",
      "1000000\n",
      "(561, 561)\n",
      "0.18221920597217509\n",
      "0.166610111978283\n",
      "0.6949440108585002\n",
      "0.168306752629793\n",
      "0.14251781472684086\n",
      "0.15982354937224297\n",
      "10000000\n",
      "(561, 561)\n",
      "0.18221920597217509\n",
      "0.166610111978283\n",
      "0.6949440108585002\n",
      "0.168306752629793\n",
      "0.14251781472684086\n",
      "0.15982354937224297\n",
      "100000000\n",
      "(561, 561)\n",
      "0.18221920597217509\n",
      "0.166610111978283\n",
      "0.6949440108585002\n",
      "0.168306752629793\n",
      "0.14251781472684086\n",
      "0.15982354937224297\n",
      "1000000000\n",
      "(561, 561)\n",
      "0.18221920597217509\n",
      "0.166610111978283\n",
      "0.6949440108585002\n",
      "0.168306752629793\n",
      "0.14251781472684086\n",
      "0.15982354937224297\n"
     ]
    }
   ],
   "source": [
    "U,s,VT = np.linalg.svd(X_train,full_matrices=False)\n",
    "\n",
    "lamb = [10**i for i in range(-10,10)]\n",
    "\n",
    "for la in lamb:\n",
    "    print(la)\n",
    "    d=[]\n",
    "    for k in range(len(s)):\n",
    "        d.append(s[k] / (s[k]**2 + la))\n",
    "    S = np.diag(d)\n",
    "    print(S.shape)\n",
    "    w_laying = VT.transpose()@S@U.transpose()@train_laying\n",
    "    test_laying_pred = np.sign(X_test@w_laying)\n",
    "    error_vec_laying = [0 if j[0]==j[1] else 1 for j in np.hstack((test_laying_pred, test_laying))]\n",
    "    print(sum(error_vec_laying)/len(test))\n",
    "    w_sitting = VT.transpose()@S@U.transpose()@train_sitting\n",
    "    test_sitting_pred = np.sign(X_test@w_sitting)\n",
    "    error_vec_sitting = [0 if j[0]==j[1] else 1 for j in np.hstack((test_sitting_pred, test_sitting))]\n",
    "    print(sum(error_vec_sitting)/len(test))\n",
    "    w_standing = VT.transpose()@S@U.transpose()@train_standing\n",
    "    test_standing_pred = np.sign(X_test@w_standing)\n",
    "    error_vec_sitting = [0 if j[0]==j[1] else 1 for j in np.hstack((test_standing_pred, test_standing))]\n",
    "    print(sum(error_vec_standing)/len(test))\n",
    "    w_walking = VT.transpose()@S@U.transpose()@train_walking\n",
    "    test_walking_pred = np.sign(X_test@w_walking)\n",
    "    error_vec_walking = [0 if j[0]==j[1] else 1 for j in np.hstack((test_walking_pred, test_walking))]\n",
    "    print(sum(error_vec_walking)/len(test))\n",
    "    w_walkingdownstairs = VT.transpose()@S@U.transpose()@train_walkingdownstairs\n",
    "    test_walkingdownstairs_pred = np.sign(X_test@w_walkingdownstairs)\n",
    "    error_vec_walkingdownstairs = [0 if j[0]==j[1] else 1 for j in np.hstack((test_walkingdownstairs_pred, test_walkingdownstairs))]\n",
    "    print(sum(error_vec_walkingdownstairs)/len(test))\n",
    "    w_walkingupstairs = VT.transpose()@S@U.transpose()@train_walkingupstairs\n",
    "    test_walkingupstairs_pred = np.sign(X_test@w_walkingupstairs)\n",
    "    error_vec_walkingupstairs = [0 if j[0]==j[1] else 1 for j in np.hstack((test_walkingupstairs_pred, test_walkingupstairs))]\n",
    "    print(sum(error_vec_walkingupstairs)/len(test))"
   ]
  },
  {
   "cell_type": "code",
   "execution_count": 104,
   "metadata": {},
   "outputs": [
    {
     "name": "stdout",
     "output_type": "stream",
     "text": [
      "[[7.20405333e-04 0.00000000e+00 0.00000000e+00 ... 0.00000000e+00\n",
      "  0.00000000e+00 0.00000000e+00]\n",
      " [0.00000000e+00 2.54231098e-03 0.00000000e+00 ... 0.00000000e+00\n",
      "  0.00000000e+00 0.00000000e+00]\n",
      " [0.00000000e+00 0.00000000e+00 7.42681262e-03 ... 0.00000000e+00\n",
      "  0.00000000e+00 0.00000000e+00]\n",
      " ...\n",
      " [0.00000000e+00 0.00000000e+00 0.00000000e+00 ... 2.11476317e-12\n",
      "  0.00000000e+00 0.00000000e+00]\n",
      " [0.00000000e+00 0.00000000e+00 0.00000000e+00 ... 0.00000000e+00\n",
      "  1.21076613e-12 0.00000000e+00]\n",
      " [0.00000000e+00 0.00000000e+00 0.00000000e+00 ... 0.00000000e+00\n",
      "  0.00000000e+00 4.84572758e-13]]\n"
     ]
    }
   ],
   "source": [
    "U,s,VT = np.linalg.svd(X_train,full_matrices=False)\n",
    "\n",
    "lamb = 0.001\n",
    "\n",
    "d=[]\n",
    "for k in range(len(s)):\n",
    "    d.append(s[k] / (s[k]**2 + lamb))\n",
    "\n",
    "S = np.diag(d)\n",
    "print(S)"
   ]
  },
  {
   "cell_type": "code",
   "execution_count": 105,
   "metadata": {},
   "outputs": [],
   "source": [
    "#Ridge Regression for six different models\n",
    "w_laying = VT.transpose()@S@U.transpose()@train_laying\n",
    "w_sitting = VT.transpose()@S@U.transpose()@train_sitting\n",
    "w_standing = VT.transpose()@S@U.transpose()@train_standing\n",
    "w_walking = VT.transpose()@S@U.transpose()@train_walking\n",
    "w_walkingdownstairs = VT.transpose()@S@U.transpose()@train_walkingdownstairs\n",
    "w_walkingupstairs = VT.transpose()@S@U.transpose()@train_walkingupstairs\n"
   ]
  },
  {
   "cell_type": "code",
   "execution_count": 106,
   "metadata": {},
   "outputs": [
    {
     "name": "stdout",
     "output_type": "stream",
     "text": [
      "0.0\n",
      "0.03189684424838819\n",
      "0.03630810994231422\n",
      "0.00508992195453003\n",
      "0.009501187648456057\n",
      "0.017305734645402103\n"
     ]
    }
   ],
   "source": [
    "test_laying_pred = np.sign(X_test@w_laying)\n",
    "test_sitting_pred = np.sign(X_test@w_sitting)\n",
    "test_standing_pred = np.sign(X_test@w_standing)\n",
    "test_walking_pred = np.sign(X_test@w_walking)\n",
    "test_walkingdownstairs_pred = np.sign(X_test@w_walkingdownstairs)\n",
    "test_walkingupstairs_pred = np.sign(X_test@w_walkingupstairs)\n",
    "\n",
    "\n",
    "error_vec_laying = [0 if j[0]==j[1] else 1 for j in np.hstack((test_laying_pred, test_laying))]\n",
    "print(sum(error_vec_laying)/len(test))\n",
    "\n",
    "error_vec_sitting = [0 if j[0]==j[1] else 1 for j in np.hstack((test_sitting_pred, test_sitting))]\n",
    "print(sum(error_vec_sitting)/len(test))\n",
    "\n",
    "error_vec_standing = [0 if j[0]==j[1] else 1 for j in np.hstack((test_standing_pred, test_standing))]\n",
    "print(sum(error_vec_standing)/len(test))\n",
    "\n",
    "error_vec_walking = [0 if j[0]==j[1] else 1 for j in np.hstack((test_walking_pred, test_walking))]\n",
    "print(sum(error_vec_walking)/len(test))\n",
    "\n",
    "error_vec_walkingdownstairs = [0 if j[0]==j[1] else 1 for j in np.hstack((test_walkingdownstairs_pred, test_walkingdownstairs))]\n",
    "print(sum(error_vec_walkingdownstairs)/len(test))\n",
    "\n",
    "error_vec_walkingupstairs = [0 if j[0]==j[1] else 1 for j in np.hstack((test_walkingupstairs_pred, test_walkingupstairs))]\n",
    "print(sum(error_vec_walkingupstairs)/len(test))\n",
    "\n",
    "# with ridge regression, our models do much better separately"
   ]
  },
  {
   "cell_type": "code",
   "execution_count": 107,
   "metadata": {},
   "outputs": [
    {
     "data": {
      "text/plain": [
       "array([[-0.94150471, -1.16045323,  1.18322878, -1.25436088, -0.86270206,\n",
       "        -0.96426322],\n",
       "       [-1.08036734, -0.80214794,  0.82532554, -1.11909431, -1.18671502,\n",
       "        -0.63699856],\n",
       "       [-1.01378996, -0.5413126 ,  0.57675576, -1.14113887, -1.05774612,\n",
       "        -0.82270092],\n",
       "       ...,\n",
       "       [-1.10808976, -0.77419813, -1.06719554, -0.58949487, -1.00008536,\n",
       "         0.53920859],\n",
       "       [-1.10190133, -0.62348071, -1.14255114, -0.71845911, -0.92791116,\n",
       "         0.51414593],\n",
       "       [-1.08044358, -1.06197565, -0.84295712, -0.60970439, -1.01021756,\n",
       "         0.6052189 ]])"
      ]
     },
     "execution_count": 107,
     "metadata": {},
     "output_type": "execute_result"
    }
   ],
   "source": [
    "test_laying_pred = X_test@w_laying\n",
    "test_sitting_pred = X_test@w_sitting\n",
    "test_standing_pred = X_test@w_standing\n",
    "test_walking_pred = X_test@w_walking\n",
    "test_walkingdownstairs_pred = X_test@w_walkingdownstairs\n",
    "test_walkingupstairs_pred = X_test@w_walkingupstairs\n",
    "\n",
    "pred = np.hstack((test_laying_pred, test_sitting_pred, test_standing_pred, test_walking_pred, test_walkingdownstairs_pred, test_walkingupstairs_pred))\n",
    "\n",
    "pred"
   ]
  },
  {
   "cell_type": "code",
   "execution_count": 108,
   "metadata": {},
   "outputs": [],
   "source": [
    "# Choose the classifier with the highest confidence score\n",
    "for i in range(len(pred)):\n",
    "    #ab = np.abs(pred[i])\n",
    "    index = np.argmax(pred[i])\n",
    "    if pred[i][index] < 0: \n",
    "        pred[i][index] = np.abs(pred[i][index])\n",
    "    for j in range(6):\n",
    "        if j != index:\n",
    "            pred[i][j] = -1"
   ]
  },
  {
   "cell_type": "code",
   "execution_count": 109,
   "metadata": {},
   "outputs": [
    {
     "data": {
      "text/plain": [
       "array([[-1., -1.,  1., -1., -1., -1.],\n",
       "       [-1., -1.,  1., -1., -1., -1.],\n",
       "       [-1., -1.,  1., -1., -1., -1.],\n",
       "       ...,\n",
       "       [-1., -1., -1., -1., -1.,  1.],\n",
       "       [-1., -1., -1., -1., -1.,  1.],\n",
       "       [-1., -1., -1., -1., -1.,  1.]])"
      ]
     },
     "execution_count": 109,
     "metadata": {},
     "output_type": "execute_result"
    }
   ],
   "source": [
    "pred = np.sign(pred)\n",
    "pred"
   ]
  },
  {
   "cell_type": "code",
   "execution_count": 110,
   "metadata": {},
   "outputs": [],
   "source": [
    "#reassign our prediction\n",
    "test_laying_pred = pred[:,0]\n",
    "test_sitting_pred = pred[:,1]\n",
    "test_standing_pred = pred[:,2]\n",
    "test_walking_pred = pred[:,3]\n",
    "test_walkingdownstairs_pred = pred[:,4]\n",
    "test_walkingupstairs_pred = pred[:,5]"
   ]
  },
  {
   "cell_type": "code",
   "execution_count": 111,
   "metadata": {},
   "outputs": [],
   "source": [
    "pred_label = [\"UNKNOWN\" for i in range(len(X_test))]\n",
    "\n",
    "for i in range(len(pred_label)):\n",
    "    if test_laying_pred[i] == 1:\n",
    "        pred_label[i] = \"LAYING\"\n",
    "    if test_sitting_pred[i] == 1:\n",
    "        pred_label[i] = \"SITTING\"\n",
    "    if test_standing_pred[i] == 1:\n",
    "        pred_label[i] = \"STANDING\"\n",
    "    if test_walking_pred[i] == 1:\n",
    "        pred_label[i] = \"WALKING\"\n",
    "    if test_walkingupstairs_pred[i] == 1:\n",
    "        pred_label[i] = \"WALKINGUPSTAIRS\"\n",
    "    if test_walkingdownstairs_pred[i] == 1:\n",
    "        pred_label[i] = \"WALKINGDOWNSTAIRS\""
   ]
  },
  {
   "cell_type": "code",
   "execution_count": 112,
   "metadata": {},
   "outputs": [
    {
     "name": "stdout",
     "output_type": "stream",
     "text": [
      "981\n",
      "0.332880895826264\n"
     ]
    }
   ],
   "source": [
    "error = 0\n",
    "for i in range(len(pred_label)):\n",
    "    if pred_label[i] != test_label[i]:\n",
    "        error = error + 1\n",
    "\n",
    "print(error)\n",
    "print(error/len(test_label))"
   ]
  },
  {
   "cell_type": "markdown",
   "metadata": {},
   "source": [
    "## Ridge regression with normalizer"
   ]
  },
  {
   "cell_type": "code",
   "execution_count": 113,
   "metadata": {},
   "outputs": [],
   "source": [
    "from sklearn import preprocessing\n",
    "X_train = preprocessing.normalize(X_train, norm='l2')\n",
    "X_test = preprocessing.normalize(X_test, norm='l2')"
   ]
  },
  {
   "cell_type": "code",
   "execution_count": 114,
   "metadata": {},
   "outputs": [
    {
     "name": "stdout",
     "output_type": "stream",
     "text": [
      "[[1.27985691e-02 0.00000000e+00 0.00000000e+00 ... 0.00000000e+00\n",
      "  0.00000000e+00 0.00000000e+00]\n",
      " [0.00000000e+00 3.85908377e-02 0.00000000e+00 ... 0.00000000e+00\n",
      "  0.00000000e+00 0.00000000e+00]\n",
      " [0.00000000e+00 0.00000000e+00 1.22413882e-01 ... 0.00000000e+00\n",
      "  0.00000000e+00 0.00000000e+00]\n",
      " ...\n",
      " [0.00000000e+00 0.00000000e+00 0.00000000e+00 ... 1.51169805e-13\n",
      "  0.00000000e+00 0.00000000e+00]\n",
      " [0.00000000e+00 0.00000000e+00 0.00000000e+00 ... 0.00000000e+00\n",
      "  1.00659792e-13 0.00000000e+00]\n",
      " [0.00000000e+00 0.00000000e+00 0.00000000e+00 ... 0.00000000e+00\n",
      "  0.00000000e+00 3.19748128e-14]]\n"
     ]
    }
   ],
   "source": [
    "U,s,VT = np.linalg.svd(X_train,full_matrices=False)\n",
    "\n",
    "lamb = 0.001\n",
    "\n",
    "d=[]\n",
    "for k in range(len(s)):\n",
    "    d.append(s[k] / (s[k]**2 + lamb))\n",
    "\n",
    "S = np.diag(d)\n",
    "print(S)"
   ]
  },
  {
   "cell_type": "code",
   "execution_count": 115,
   "metadata": {},
   "outputs": [],
   "source": [
    "w_laying = VT.transpose()@S@U.transpose()@train_laying\n",
    "w_sitting = VT.transpose()@S@U.transpose()@train_sitting\n",
    "w_standing = VT.transpose()@S@U.transpose()@train_standing\n",
    "w_walking = VT.transpose()@S@U.transpose()@train_walking\n",
    "w_walkingdownstairs = VT.transpose()@S@U.transpose()@train_walkingdownstairs\n",
    "w_walkingupstairs = VT.transpose()@S@U.transpose()@train_walkingupstairs"
   ]
  },
  {
   "cell_type": "code",
   "execution_count": 116,
   "metadata": {},
   "outputs": [
    {
     "name": "stdout",
     "output_type": "stream",
     "text": [
      "0.0\n",
      "0.034611469290804206\n",
      "0.03834407872412623\n",
      "0.006107906345436036\n",
      "0.009501187648456057\n",
      "0.019341703427214117\n"
     ]
    }
   ],
   "source": [
    "test_laying_pred = np.sign(X_test@w_laying)\n",
    "test_sitting_pred = np.sign(X_test@w_sitting)\n",
    "test_standing_pred = np.sign(X_test@w_standing)\n",
    "test_walking_pred = np.sign(X_test@w_walking)\n",
    "test_walkingdownstairs_pred = np.sign(X_test@w_walkingdownstairs)\n",
    "test_walkingupstairs_pred = np.sign(X_test@w_walkingupstairs)\n",
    "\n",
    "\n",
    "error_vec_laying = [0 if j[0]==j[1] else 1 for j in np.hstack((test_laying_pred, test_laying))]\n",
    "print(sum(error_vec_laying)/len(test))\n",
    "\n",
    "error_vec_sitting = [0 if j[0]==j[1] else 1 for j in np.hstack((test_sitting_pred, test_sitting))]\n",
    "print(sum(error_vec_sitting)/len(test))\n",
    "\n",
    "error_vec_standing = [0 if j[0]==j[1] else 1 for j in np.hstack((test_standing_pred, test_standing))]\n",
    "print(sum(error_vec_standing)/len(test))\n",
    "\n",
    "error_vec_walking = [0 if j[0]==j[1] else 1 for j in np.hstack((test_walking_pred, test_walking))]\n",
    "print(sum(error_vec_walking)/len(test))\n",
    "\n",
    "error_vec_walkingdownstairs = [0 if j[0]==j[1] else 1 for j in np.hstack((test_walkingdownstairs_pred, test_walkingdownstairs))]\n",
    "print(sum(error_vec_walkingdownstairs)/len(test))\n",
    "\n",
    "error_vec_walkingupstairs = [0 if j[0]==j[1] else 1 for j in np.hstack((test_walkingupstairs_pred, test_walkingupstairs))]\n",
    "print(sum(error_vec_walkingupstairs)/len(test))"
   ]
  },
  {
   "cell_type": "code",
   "execution_count": 117,
   "metadata": {},
   "outputs": [
    {
     "data": {
      "text/plain": [
       "array([[-0.98045913, -1.0607448 ,  1.0633951 , -1.24019884, -0.78459529,\n",
       "        -0.98470847],\n",
       "       [-1.09774911, -0.65005311,  0.70239689, -1.24825949, -1.11431418,\n",
       "        -0.59040899],\n",
       "       [-1.02772416, -0.57112854,  0.63939414, -1.09821279, -1.07033364,\n",
       "        -0.8537834 ],\n",
       "       ...,\n",
       "       [-1.15412659, -0.64378588, -1.14251042, -0.68836956, -1.02859798,\n",
       "         0.68113116],\n",
       "       [-1.12183602, -0.44722692, -1.24680032, -0.81657808, -0.87280101,\n",
       "         0.52341658],\n",
       "       [-1.11125677, -0.96556509, -0.88094434, -0.68570337, -0.89633952,\n",
       "         0.52316195]])"
      ]
     },
     "execution_count": 117,
     "metadata": {},
     "output_type": "execute_result"
    }
   ],
   "source": [
    "test_laying_pred = X_test@w_laying\n",
    "test_sitting_pred = X_test@w_sitting\n",
    "test_standing_pred = X_test@w_standing\n",
    "test_walking_pred = X_test@w_walking\n",
    "test_walkingdownstairs_pred = X_test@w_walkingdownstairs\n",
    "test_walkingupstairs_pred = X_test@w_walkingupstairs\n",
    "\n",
    "pred = np.hstack((test_laying_pred, test_sitting_pred, test_standing_pred, test_walking_pred, test_walkingdownstairs_pred, test_walkingupstairs_pred))\n",
    "\n",
    "pred"
   ]
  },
  {
   "cell_type": "code",
   "execution_count": 118,
   "metadata": {},
   "outputs": [],
   "source": [
    "for i in range(len(pred)):\n",
    "    #ab = np.abs(pred[i])\n",
    "    index = np.argmax(pred[i])\n",
    "    if pred[i][index] < 0: \n",
    "        pred[i][index] = np.abs(pred[i][index])\n",
    "    for j in range(6):\n",
    "        if j != index:\n",
    "            pred[i][j] = -1"
   ]
  },
  {
   "cell_type": "code",
   "execution_count": 119,
   "metadata": {},
   "outputs": [
    {
     "data": {
      "text/plain": [
       "array([[-1., -1.,  1., -1., -1., -1.],\n",
       "       [-1., -1.,  1., -1., -1., -1.],\n",
       "       [-1., -1.,  1., -1., -1., -1.],\n",
       "       ...,\n",
       "       [-1., -1., -1., -1., -1.,  1.],\n",
       "       [-1., -1., -1., -1., -1.,  1.],\n",
       "       [-1., -1., -1., -1., -1.,  1.]])"
      ]
     },
     "execution_count": 119,
     "metadata": {},
     "output_type": "execute_result"
    }
   ],
   "source": [
    "pred = np.sign(pred)\n",
    "pred"
   ]
  },
  {
   "cell_type": "code",
   "execution_count": 120,
   "metadata": {},
   "outputs": [],
   "source": [
    "test_laying_pred = pred[:,0]\n",
    "test_sitting_pred = pred[:,1]\n",
    "test_standing_pred = pred[:,2]\n",
    "test_walking_pred = pred[:,3]\n",
    "test_walkingdownstairs_pred = pred[:,4]\n",
    "test_walkingupstairs_pred = pred[:,5]"
   ]
  },
  {
   "cell_type": "code",
   "execution_count": 121,
   "metadata": {},
   "outputs": [],
   "source": [
    "pred_label = [\"UNKNOWN\" for i in range(len(X_test))]\n",
    "\n",
    "for i in range(len(pred_label)):\n",
    "    if test_laying_pred[i] == 1:\n",
    "        pred_label[i] = \"LAYING\"\n",
    "    if test_sitting_pred[i] == 1:\n",
    "        pred_label[i] = \"SITTING\"\n",
    "    if test_standing_pred[i] == 1:\n",
    "        pred_label[i] = \"STANDING\"\n",
    "    if test_walking_pred[i] == 1:\n",
    "        pred_label[i] = \"WALKING\"\n",
    "    if test_walkingupstairs_pred[i] == 1:\n",
    "        pred_label[i] = \"WALKINGUPSTAIRS\"\n",
    "    if test_walkingdownstairs_pred[i] == 1:\n",
    "        pred_label[i] = \"WALKINGDOWNSTAIRS\""
   ]
  },
  {
   "cell_type": "code",
   "execution_count": 122,
   "metadata": {},
   "outputs": [
    {
     "name": "stdout",
     "output_type": "stream",
     "text": [
      "995\n",
      "0.337631489650492\n"
     ]
    }
   ],
   "source": [
    "error = 0\n",
    "for i in range(len(pred_label)):\n",
    "    if pred_label[i] != test_label[i]:\n",
    "        error = error + 1\n",
    "\n",
    "print(error)\n",
    "print(error/len(test_label))"
   ]
  },
  {
   "cell_type": "markdown",
   "metadata": {},
   "source": [
    "## Linear Regression with sklearn"
   ]
  },
  {
   "cell_type": "code",
   "execution_count": 123,
   "metadata": {},
   "outputs": [
    {
     "name": "stdout",
     "output_type": "stream",
     "text": [
      "NUmber of unique activities: 6\n"
     ]
    }
   ],
   "source": [
    "train_df = pd.read_csv(r\"D:\\Dropbox\\Wisconsin School of Business\\MSBA\\CS 532\\Jupyter NB\\Final Project\\input\\train.csv\")\n",
    "test_df = pd.read_csv(r\"D:\\Dropbox\\Wisconsin School of Business\\MSBA\\CS 532\\Jupyter NB\\Final Project\\input\\test.csv\")\n",
    "\n",
    "unique_activities = train_df.Activity.unique()\n",
    "print(\"NUmber of unique activities: {}\".format(len(unique_activities)))\n",
    "replacer = {}\n",
    "for i, activity in enumerate(unique_activities):\n",
    "    replacer[activity] = i\n",
    "train_df.Activity = train_df.Activity.replace(replacer)\n",
    "test_df.Activity = test_df.Activity.replace(replacer)\n",
    "train_df.head(10)\n",
    "\n",
    "train_df = train_df.drop(\"subject\", axis=1)\n",
    "test_df = test_df.drop(\"subject\", axis=1)"
   ]
  },
  {
   "cell_type": "code",
   "execution_count": 147,
   "metadata": {},
   "outputs": [],
   "source": [
    "from sklearn.preprocessing import StandardScaler\n",
    "from sklearn.linear_model import Ridge\n",
    "from sklearn.linear_model import LinearRegression\n",
    "from sklearn import linear_model\n",
    "\n",
    "def get_all_data():\n",
    "    train_values = train_df.values\n",
    "    test_values = test_df.values\n",
    "    np.random.shuffle(train_values)\n",
    "    np.random.shuffle(test_values)\n",
    "    X_train = train_values[:, :-1]\n",
    "    X_test = test_values[:, :-1]\n",
    "    y_train = train_values[:, -1]\n",
    "    y_test = test_values[:, -1]\n",
    "    return X_train, X_test, y_train, y_test\n",
    "\n",
    "scaler = StandardScaler()\n",
    "\n",
    "X_train, X_test, y_train, y_test = get_all_data()\n",
    "scaler.fit(X_train)\n",
    "X_train = scaler.transform(X_train)\n",
    "X_test = scaler.transform(X_test)"
   ]
  },
  {
   "cell_type": "code",
   "execution_count": 125,
   "metadata": {},
   "outputs": [
    {
     "data": {
      "text/plain": [
       "0.9535723466434651"
      ]
     },
     "execution_count": 125,
     "metadata": {},
     "output_type": "execute_result"
    }
   ],
   "source": [
    "# Least Square\n",
    "X_train, X_test, y_train, y_test = get_all_data()\n",
    "linear = LinearRegression()\n",
    "linear.fit(X_train, y_train)\n",
    "linear.score(X_test, y_test)"
   ]
  },
  {
   "cell_type": "code",
   "execution_count": 156,
   "metadata": {},
   "outputs": [
    {
     "name": "stdout",
     "output_type": "stream",
     "text": [
      "0.16253817441465898\n"
     ]
    }
   ],
   "source": [
    "y_test_linear = linear.predict(X_test)\n",
    "y_test_linear = np.round_(y_test_hat)\n",
    "error_vec = [0 if j[0]==j[1] else 1 for j in np.hstack((np.c_[y_test_linear], np.c_[y_test]))]\n",
    "print(sum(error_vec)/len(y_test))"
   ]
  },
  {
   "cell_type": "code",
   "execution_count": 162,
   "metadata": {},
   "outputs": [
    {
     "data": {
      "text/plain": [
       "0.9541275563320176"
      ]
     },
     "execution_count": 162,
     "metadata": {},
     "output_type": "execute_result"
    }
   ],
   "source": [
    "# Ridge\n",
    "X_train, X_test, y_train, y_test = get_all_data()\n",
    "ridge = Ridge(alpha = 0.001)\n",
    "ridge.fit(X_train, y_train)\n",
    "ridge.score(X_test, y_test)"
   ]
  },
  {
   "cell_type": "code",
   "execution_count": 163,
   "metadata": {},
   "outputs": [
    {
     "name": "stdout",
     "output_type": "stream",
     "text": [
      "0.16219884628435696\n"
     ]
    }
   ],
   "source": [
    "y_test_ridge = ridge.predict(X_test)\n",
    "y_test_ridge = np.round_(y_test_ridge)\n",
    "error_vec = [0 if j[0]==j[1] else 1 for j in np.hstack((np.c_[y_test_ridge], np.c_[y_test]))]\n",
    "print(sum(error_vec)/len(y_test))"
   ]
  },
  {
   "cell_type": "code",
   "execution_count": 155,
   "metadata": {},
   "outputs": [
    {
     "data": {
      "text/plain": [
       "0.9370247804368227"
      ]
     },
     "execution_count": 155,
     "metadata": {},
     "output_type": "execute_result"
    }
   ],
   "source": [
    "# Lasso\n",
    "X_train, X_test, y_train, y_test = get_all_data()\n",
    "lasso = linear_model.Lasso(alpha=0.001, max_iter = 10000)\n",
    "lasso.fit(X_train, y_train)\n",
    "lasso.score(X_test, y_test)"
   ]
  },
  {
   "cell_type": "code",
   "execution_count": 160,
   "metadata": {},
   "outputs": [
    {
     "name": "stdout",
     "output_type": "stream",
     "text": [
      "0.23990498812351543\n"
     ]
    }
   ],
   "source": [
    "y_test_lasso = lasso.predict(X_test)\n",
    "y_test_lasso = np.round_(y_test_lasso)\n",
    "error_vec = [0 if j[0]==j[1] else 1 for j in np.hstack((np.c_[y_test_lasso], np.c_[y_test]))]\n",
    "print(sum(error_vec)/len(y_test))"
   ]
  },
  {
   "cell_type": "code",
   "execution_count": null,
   "metadata": {},
   "outputs": [],
   "source": []
  }
 ],
 "metadata": {
  "kernelspec": {
   "display_name": "Python 3",
   "language": "python",
   "name": "python3"
  },
  "language_info": {
   "codemirror_mode": {
    "name": "ipython",
    "version": 3
   },
   "file_extension": ".py",
   "mimetype": "text/x-python",
   "name": "python",
   "nbconvert_exporter": "python",
   "pygments_lexer": "ipython3",
   "version": "3.8.3"
  }
 },
 "nbformat": 4,
 "nbformat_minor": 4
}
