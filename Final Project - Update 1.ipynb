{
 "cells": [
  {
   "cell_type": "code",
   "execution_count": 98,
   "metadata": {},
   "outputs": [
    {
     "name": "stdout",
     "output_type": "stream",
     "text": [
      "['test.csv', 'train.csv']\n"
     ]
    }
   ],
   "source": [
    "import numpy as np\n",
    "import pylab as pl\n",
    "import pandas as pd\n",
    "import matplotlib.pyplot as plt \n",
    "%matplotlib inline\n",
    "import seaborn as sns\n",
    "from sklearn.utils import shuffle\n",
    "from sklearn.svm import SVC\n",
    "from sklearn.metrics import confusion_matrix,classification_report\n",
    "from sklearn.model_selection import cross_val_score, GridSearchCV\n",
    "\n",
    "import os\n",
    "print(os.listdir(r\"D:\\Dropbox\\Wisconsin School of Business\\MSBA\\CS 532\\Jupyter NB\\Final Project\\input\"))"
   ]
  },
  {
   "cell_type": "code",
   "execution_count": 99,
   "metadata": {},
   "outputs": [
    {
     "name": "stdout",
     "output_type": "stream",
     "text": [
      "(7352, 563)\n",
      "(2947, 563)\n"
     ]
    }
   ],
   "source": [
    "train = shuffle(pd.read_csv(r\"D:\\Dropbox\\Wisconsin School of Business\\MSBA\\CS 532\\Jupyter NB\\Final Project\\input\\train.csv\"))\n",
    "print(train.shape)\n",
    "test = shuffle(pd.read_csv(r\"D:\\Dropbox\\Wisconsin School of Business\\MSBA\\CS 532\\Jupyter NB\\Final Project\\input\\test.csv\"))\n",
    "print(test.shape)"
   ]
  },
  {
   "cell_type": "code",
   "execution_count": 3,
   "metadata": {},
   "outputs": [
    {
     "data": {
      "text/html": [
       "<div>\n",
       "<style scoped>\n",
       "    .dataframe tbody tr th:only-of-type {\n",
       "        vertical-align: middle;\n",
       "    }\n",
       "\n",
       "    .dataframe tbody tr th {\n",
       "        vertical-align: top;\n",
       "    }\n",
       "\n",
       "    .dataframe thead th {\n",
       "        text-align: right;\n",
       "    }\n",
       "</style>\n",
       "<table border=\"1\" class=\"dataframe\">\n",
       "  <thead>\n",
       "    <tr style=\"text-align: right;\">\n",
       "      <th>col_0</th>\n",
       "      <th>count</th>\n",
       "    </tr>\n",
       "    <tr>\n",
       "      <th>Activity</th>\n",
       "      <th></th>\n",
       "    </tr>\n",
       "  </thead>\n",
       "  <tbody>\n",
       "    <tr>\n",
       "      <th>LAYING</th>\n",
       "      <td>1407</td>\n",
       "    </tr>\n",
       "    <tr>\n",
       "      <th>SITTING</th>\n",
       "      <td>1286</td>\n",
       "    </tr>\n",
       "    <tr>\n",
       "      <th>STANDING</th>\n",
       "      <td>1374</td>\n",
       "    </tr>\n",
       "    <tr>\n",
       "      <th>WALKING</th>\n",
       "      <td>1226</td>\n",
       "    </tr>\n",
       "    <tr>\n",
       "      <th>WALKING_DOWNSTAIRS</th>\n",
       "      <td>986</td>\n",
       "    </tr>\n",
       "    <tr>\n",
       "      <th>WALKING_UPSTAIRS</th>\n",
       "      <td>1073</td>\n",
       "    </tr>\n",
       "  </tbody>\n",
       "</table>\n",
       "</div>"
      ],
      "text/plain": [
       "col_0               count\n",
       "Activity                 \n",
       "LAYING               1407\n",
       "SITTING              1286\n",
       "STANDING             1374\n",
       "WALKING              1226\n",
       "WALKING_DOWNSTAIRS    986\n",
       "WALKING_UPSTAIRS     1073"
      ]
     },
     "execution_count": 3,
     "metadata": {},
     "output_type": "execute_result"
    }
   ],
   "source": [
    "\n",
    "train_outcome = pd.crosstab(index=train[\"Activity\"],  # Make a crosstab\n",
    "                              columns=\"count\")      # Name the count column\n",
    "\n",
    "train_outcome"
   ]
  },
  {
   "cell_type": "code",
   "execution_count": 100,
   "metadata": {},
   "outputs": [],
   "source": [
    "#Create the binary class variables for train set:\n",
    "laying = []\n",
    "for i in range(len(train)):\n",
    "    if train['Activity'][i] == \"LAYING\":\n",
    "        laying.append(1)\n",
    "    else:\n",
    "        laying.append(0)\n",
    "#train['LAYING'] = laying\n",
    "train_laying = np.c_[laying]\n",
    "\n",
    "sitting = []\n",
    "for i in range(len(train)):\n",
    "    if train['Activity'][i] == \"SITTING\":\n",
    "        sitting.append(1)\n",
    "    else:\n",
    "        sitting.append(0)\n",
    "#train['SITTING'] = sitting\n",
    "train_sitting = np.c_[sitting]\n",
    "\n",
    "standing = []\n",
    "for i in range(len(train)):\n",
    "    if train['Activity'][i] == \"STANDING\":\n",
    "        standing.append(1)\n",
    "    else:\n",
    "        standing.append(0)\n",
    "#train['STANDING'] = standing\n",
    "train_standing = np.c_[standing]\n",
    "\n",
    "walking = []\n",
    "for i in range(len(train)):\n",
    "    if train['Activity'][i] == \"WALKING\":\n",
    "        walking.append(1)\n",
    "    else:\n",
    "        walking.append(0)\n",
    "#train['WALKING'] = walking\n",
    "train_walking = np.c_[walking]\n",
    "\n",
    "walkingdownstairs = []\n",
    "for i in range(len(train)):\n",
    "    if train['Activity'][i] == \"WALKING_DOWNSTAIRS\":\n",
    "        walkingdownstairs.append(1)\n",
    "    else:\n",
    "        walkingdownstairs.append(0)\n",
    "#train['WALKING_DOWNSTAIRS'] = walkingdownstairs\n",
    "train_walkingdownstairs = np.c_[walkingdownstairs]\n",
    "\n",
    "walkingupstairs = []\n",
    "for i in range(len(train)):\n",
    "    if train['Activity'][i] == \"WALKING_UPSTAIRS\":\n",
    "        walkingupstairs.append(1)\n",
    "    else:\n",
    "        walkingupstairs.append(0)\n",
    "#train['WALKING_UPSTAIRS'] = walkingupstairs\n",
    "train_walkingupstairs = np.c_[walkingupstairs]\n",
    "\n",
    "#Create the binary class variables for test set:\n",
    "test_laying = []\n",
    "for i in range(len(test)):\n",
    "    if test['Activity'][i] == \"LAYING\":\n",
    "        test_laying.append(1)\n",
    "    else:\n",
    "        test_laying.append(0)\n",
    "#test['LAYING'] = laying\n",
    "test_laying = np.c_[test_laying]\n",
    "\n",
    "test_sitting = []\n",
    "for i in range(len(test)):\n",
    "    if test['Activity'][i] == \"SITTING\":\n",
    "        test_sitting.append(1)\n",
    "    else:\n",
    "        test_sitting.append(0)\n",
    "#test['SITTING'] = sitting\n",
    "test_sitting = np.c_[test_sitting]\n",
    "\n",
    "test_standing = []\n",
    "for i in range(len(test)):\n",
    "    if test['Activity'][i] == \"STANDING\":\n",
    "        test_standing.append(1)\n",
    "    else:\n",
    "        test_standing.append(0)\n",
    "#test['STANDING'] = standing\n",
    "test_standing = np.c_[test_standing]\n",
    "\n",
    "test_walking = []\n",
    "for i in range(len(test)):\n",
    "    if test['Activity'][i] == \"WALKING\":\n",
    "        test_walking.append(1)\n",
    "    else:\n",
    "        test_walking.append(0)\n",
    "#test['WALKING'] = walking\n",
    "test_walking = np.c_[test_walking]\n",
    "\n",
    "test_walkingdownstairs = []\n",
    "for i in range(len(test)):\n",
    "    if test['Activity'][i] == \"WALKING_DOWNSTAIRS\":\n",
    "        test_walkingdownstairs.append(1)\n",
    "    else:\n",
    "        test_walkingdownstairs.append(0)\n",
    "#test['WALKING_DOWNSTAIRS'] = walkingdownstairs\n",
    "test_walkingdownstairs = np.c_[test_walkingdownstairs]\n",
    "\n",
    "test_walkingupstairs = []\n",
    "for i in range(len(test)):\n",
    "    if test['Activity'][i] == \"WALKING_UPSTAIRS\":\n",
    "        test_walkingupstairs.append(1)\n",
    "    else:\n",
    "        test_walkingupstairs.append(0)\n",
    "#test['WALKING_UPSTAIRS'] = walkingupstairs\n",
    "test_walkingupstairs = np.c_[test_walkingupstairs]\n"
   ]
  },
  {
   "cell_type": "code",
   "execution_count": 102,
   "metadata": {},
   "outputs": [
    {
     "name": "stdout",
     "output_type": "stream",
     "text": [
      "Dimension of Train set (7352, 561)\n",
      "Dimension of Test set (2947, 561) \n",
      "\n"
     ]
    }
   ],
   "source": [
    "# Seperating Predictors and Outcome values from train and test sets\n",
    "X_train = pd.DataFrame(train.drop(['Activity','subject'],axis=1))\n",
    "#Y_train_label = train.Activity.values.astype(object)\n",
    "X_test = pd.DataFrame(test.drop(['Activity','subject'],axis=1))\n",
    "#Y_test_label = test.Activity.values.astype(object)\n",
    "\n",
    "# Dimension of Train and Test set \n",
    "print(\"Dimension of Train set\",X_train.shape)\n",
    "print(\"Dimension of Test set\",X_test.shape,\"\\n\")\n"
   ]
  },
  {
   "cell_type": "code",
   "execution_count": 187,
   "metadata": {},
   "outputs": [
    {
     "name": "stdout",
     "output_type": "stream",
     "text": [
      "[[7.20405334e-04 0.00000000e+00 0.00000000e+00 ... 0.00000000e+00\n",
      "  0.00000000e+00 0.00000000e+00]\n",
      " [0.00000000e+00 2.54231100e-03 0.00000000e+00 ... 0.00000000e+00\n",
      "  0.00000000e+00 0.00000000e+00]\n",
      " [0.00000000e+00 0.00000000e+00 7.42681303e-03 ... 0.00000000e+00\n",
      "  0.00000000e+00 0.00000000e+00]\n",
      " ...\n",
      " [0.00000000e+00 0.00000000e+00 0.00000000e+00 ... 8.03952356e-08\n",
      "  0.00000000e+00 0.00000000e+00]\n",
      " [0.00000000e+00 0.00000000e+00 0.00000000e+00 ... 0.00000000e+00\n",
      "  5.36423942e-08 0.00000000e+00]\n",
      " [0.00000000e+00 0.00000000e+00 0.00000000e+00 ... 0.00000000e+00\n",
      "  0.00000000e+00 1.79041945e-08]]\n"
     ]
    }
   ],
   "source": [
    "U,s,VT = np.linalg.svd(X_train,full_matrices=False)\n",
    "\n",
    "lamb = 0.00000002\n",
    "\n",
    "d=[]\n",
    "for k in range(len(s)):\n",
    "    d.append(s[k] / (s[k]**2 + lamb))\n",
    "\n",
    "S = np.diag(d)\n",
    "print(S)"
   ]
  },
  {
   "cell_type": "code",
   "execution_count": 188,
   "metadata": {},
   "outputs": [
    {
     "name": "stdout",
     "output_type": "stream",
     "text": [
      "(561, 561)\n",
      "(561, 561)\n",
      "(7352, 561)\n",
      "(7352, 1)\n"
     ]
    }
   ],
   "source": [
    "#Ridge Regression for six different models\n",
    "w_laying = VT.transpose()@S@U.transpose()@train_laying\n",
    "w_sitting = VT.transpose()@S@U.transpose()@train_sitting\n",
    "w_standing = VT.transpose()@S@U.transpose()@train_standing\n",
    "w_walking = VT.transpose()@S@U.transpose()@train_walking\n",
    "w_walkingdownstairs = VT.transpose()@S@U.transpose()@train_walkingdownstairs\n",
    "w_walkingupstairs = VT.transpose()@S@U.transpose()@train_walkingupstairs\n"
   ]
  },
  {
   "cell_type": "code",
   "execution_count": 190,
   "metadata": {},
   "outputs": [
    {
     "name": "stdout",
     "output_type": "stream",
     "text": [
      "0.8242280285035629\n",
      "0.841873091279267\n",
      "0.831014591109603\n",
      "0.8411944350186631\n",
      "0.8713946386155412\n",
      "0.8537495758398371\n"
     ]
    }
   ],
   "source": [
    "test_laying_pred = np.sign(X_test@w_laying)\n",
    "test_sitting_pred = np.sign(X_test@w_sitting)\n",
    "test_standing_pred = np.sign(X_test@w_standing)\n",
    "test_walking_pred = np.sign(X_test@w_walking)\n",
    "test_walkingdownstairs_pred = np.sign(X_test@w_walkingdownstairs)\n",
    "test_walkingupstairs_pred = np.sign(X_test@w_walkingupstairs)\n",
    "\n",
    "\n",
    "error_vec_laying = [0 if j[0]==j[1] else 1 for j in np.hstack((test_laying_pred, test_laying))]\n",
    "print(sum(error_vec_laying)/len(test))\n",
    "\n",
    "error_vec_sitting = [0 if j[0]==j[1] else 1 for j in np.hstack((test_sitting_pred, test_sitting))]\n",
    "print(sum(error_vec_sitting)/len(test))\n",
    "\n",
    "error_vec_standing = [0 if j[0]==j[1] else 1 for j in np.hstack((test_standing_pred, test_standing))]\n",
    "print(sum(error_vec_standing)/len(test))\n",
    "\n",
    "error_vec_walking = [0 if j[0]==j[1] else 1 for j in np.hstack((test_walking_pred, test_walking))]\n",
    "print(sum(error_vec_walking)/len(test))\n",
    "\n",
    "error_vec_walkingdownstairs = [0 if j[0]==j[1] else 1 for j in np.hstack((test_walkingdownstairs_pred, test_walkingdownstairs))]\n",
    "print(sum(error_vec_walkingdownstairs)/len(test))\n",
    "\n",
    "error_vec_walkingupstairs = [0 if j[0]==j[1] else 1 for j in np.hstack((test_walkingupstairs_pred, test_walkingupstairs))]\n",
    "print(sum(error_vec_walkingupstairs)/len(test))\n",
    "\n",
    "# separately, our models do not do very well in predicting"
   ]
  },
  {
   "cell_type": "code",
   "execution_count": 220,
   "metadata": {},
   "outputs": [
    {
     "data": {
      "text/plain": [
       "array([[ 0.23487388,  0.12769207,  0.22979056,  0.25649339,  0.14635855,\n",
       "         0.00479156],\n",
       "       [ 0.14869078, -0.06562864,  0.1495836 ,  0.09715062,  0.25152887,\n",
       "         0.41867477],\n",
       "       [ 0.22399248,  0.22898312,  0.29020362,  0.10863769,  0.07757342,\n",
       "         0.07060968],\n",
       "       ...,\n",
       "       [ 0.19968976,  0.16750997,  0.20261033,  0.16076832,  0.02200941,\n",
       "         0.24741221],\n",
       "       [ 0.22923436,  0.1800778 ,  0.20448946,  0.22790128,  0.22059572,\n",
       "        -0.06229861],\n",
       "       [ 0.22169074,  0.11272059,  0.31114482,  0.13987983,  0.26957409,\n",
       "        -0.05501006]])"
      ]
     },
     "execution_count": 220,
     "metadata": {},
     "output_type": "execute_result"
    }
   ],
   "source": [
    "test_laying_pred = X_test@w_laying\n",
    "test_sitting_pred = X_test@w_sitting\n",
    "test_standing_pred = X_test@w_standing\n",
    "test_walking_pred = X_test@w_walking\n",
    "test_walkingdownstairs_pred = X_test@w_walkingdownstairs\n",
    "test_walkingupstairs_pred = X_test@w_walkingupstairs\n",
    "\n",
    "pred = np.hstack((test_laying_pred, test_sitting_pred, test_standing_pred, test_walking_pred, test_walkingdownstairs_pred, test_walkingupstairs_pred))\n",
    "\n",
    "pred"
   ]
  },
  {
   "cell_type": "code",
   "execution_count": 222,
   "metadata": {},
   "outputs": [
    {
     "data": {
      "text/plain": [
       "array([[0.        , 0.        , 0.        , 0.25649339, 0.        ,\n",
       "        0.        ],\n",
       "       [0.        , 0.        , 0.        , 0.        , 0.        ,\n",
       "        0.41867477],\n",
       "       [0.        , 0.        , 0.29020362, 0.        , 0.        ,\n",
       "        0.        ],\n",
       "       ...,\n",
       "       [0.        , 0.        , 0.        , 0.        , 0.        ,\n",
       "        0.24741221],\n",
       "       [0.22923436, 0.        , 0.        , 0.        , 0.        ,\n",
       "        0.        ],\n",
       "       [0.        , 0.        , 0.31114482, 0.        , 0.        ,\n",
       "        0.        ]])"
      ]
     },
     "execution_count": 222,
     "metadata": {},
     "output_type": "execute_result"
    }
   ],
   "source": [
    "# Choose the classifier with the highest confidence score\n",
    "for i in range(len(pred)):\n",
    "    ab = np.abs(pred[i])\n",
    "    index = np.argmax(ab)\n",
    "    for j in range(6):\n",
    "        if j != index:\n",
    "            pred[i][j] = 0"
   ]
  },
  {
   "cell_type": "code",
   "execution_count": 233,
   "metadata": {},
   "outputs": [],
   "source": [
    "#reassign our prediction\n",
    "test_laying_pred = np.sign(pred[:,0])\n",
    "test_sitting_pred = np.sign(pred[:,1])\n",
    "test_standing_pred = np.sign(pred[:,2])\n",
    "test_walking_pred = np.sign(pred[:,3])\n",
    "test_walkingdownstairs_pred = np.sign(pred[:,4])\n",
    "test_walkingupstairs_pred = np.sign(pred[:,5])"
   ]
  },
  {
   "cell_type": "code",
   "execution_count": 234,
   "metadata": {},
   "outputs": [
    {
     "name": "stdout",
     "output_type": "stream",
     "text": [
      "0.31150322361723787\n",
      "0.33050559891415\n",
      "0.33389888021717\n",
      "0.2578893790295215\n",
      "0.18595181540549713\n",
      "0.2544960977265015\n"
     ]
    }
   ],
   "source": [
    "#final error rate\n",
    "error_vec_laying = [0 if j[0]==j[1] else 1 for j in np.hstack((np.c_[test_laying_pred], test_laying))]\n",
    "print(sum(error_vec_laying)/len(test))\n",
    "\n",
    "error_vec_sitting = [0 if j[0]==j[1] else 1 for j in np.hstack((np.c_[test_sitting_pred], test_sitting))]\n",
    "print(sum(error_vec_sitting)/len(test))\n",
    "\n",
    "error_vec_standing = [0 if j[0]==j[1] else 1 for j in np.hstack((np.c_[test_standing_pred], test_standing))]\n",
    "print(sum(error_vec_standing)/len(test))\n",
    "\n",
    "error_vec_walking = [0 if j[0]==j[1] else 1 for j in np.hstack((np.c_[test_walking_pred], test_walking))]\n",
    "print(sum(error_vec_walking)/len(test))\n",
    "\n",
    "error_vec_walkingdownstairs = [0 if j[0]==j[1] else 1 for j in np.hstack((np.c_[test_walkingdownstairs_pred], test_walkingdownstairs))]\n",
    "print(sum(error_vec_walkingdownstairs)/len(test))\n",
    "\n",
    "error_vec_walkingupstairs = [0 if j[0]==j[1] else 1 for j in np.hstack((np.c_[test_walkingupstairs_pred], test_walkingupstairs))]\n",
    "print(sum(error_vec_walkingupstairs)/len(test))"
   ]
  },
  {
   "cell_type": "code",
   "execution_count": null,
   "metadata": {},
   "outputs": [],
   "source": []
  }
 ],
 "metadata": {
  "kernelspec": {
   "display_name": "Python 3",
   "language": "python",
   "name": "python3"
  },
  "language_info": {
   "codemirror_mode": {
    "name": "ipython",
    "version": 3
   },
   "file_extension": ".py",
   "mimetype": "text/x-python",
   "name": "python",
   "nbconvert_exporter": "python",
   "pygments_lexer": "ipython3",
   "version": "3.8.3"
  }
 },
 "nbformat": 4,
 "nbformat_minor": 4
}
